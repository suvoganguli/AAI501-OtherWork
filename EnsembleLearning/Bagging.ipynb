{
 "cells": [
  {
   "cell_type": "code",
   "execution_count": 2,
   "id": "2a8cb70c-b61e-4a8f-a448-da0b28452f60",
   "metadata": {},
   "outputs": [
    {
     "name": "stdout",
     "output_type": "stream",
     "text": [
      "Final aggregated prediction: [1 1 1 1 0]\n"
     ]
    }
   ],
   "source": [
    "from sklearn.tree import DecisionTreeClassifier\n",
    "from sklearn.utils import resample\n",
    "import numpy as np\n",
    "\n",
    "# Define the dataset\n",
    "X = np.array([[2, 3, 4],\n",
    "              [5, 6, 7],\n",
    "              [8, 9, 10],\n",
    "              [11, 12, 13],\n",
    "              [14, 15, 16]])\n",
    "y = np.array([0, 1, 0, 1, 0])\n",
    "\n",
    "# Define the number of base models (decision trees) to train\n",
    "num_models = 3\n",
    "\n",
    "# Initialize a list to store the base models\n",
    "base_models = []\n",
    "\n",
    "# Train multiple decision trees on different bootstrap samples of the data\n",
    "for _ in range(num_models):\n",
    "    # Sample with replacement from the dataset\n",
    "    X_sample, y_sample = resample(X, y, replace=True, random_state=np.random.randint(100))\n",
    "    \n",
    "    # Train a decision tree on the bootstrap sample\n",
    "    model = DecisionTreeClassifier()\n",
    "    model.fit(X_sample, y_sample)\n",
    "    \n",
    "    # Add the trained model to the list of base models\n",
    "    base_models.append(model)\n",
    "\n",
    "# Make predictions using each base model\n",
    "predictions = [model.predict(X) for model in base_models]\n",
    "\n",
    "# Aggregate the predictions using majority voting\n",
    "final_prediction = np.round(np.mean(predictions, axis=0)).astype(int)  # Round to nearest integer for binary classification\n",
    "\n",
    "print(\"Final aggregated prediction:\", final_prediction)\n"
   ]
  },
  {
   "cell_type": "code",
   "execution_count": 6,
   "id": "781838b4-508d-4024-8aa7-53f0263236f3",
   "metadata": {},
   "outputs": [
    {
     "name": "stdout",
     "output_type": "stream",
     "text": [
      "Final aggregated prediction: [0 0 0]\n",
      "Accuracy: 0.6666666666666666\n"
     ]
    }
   ],
   "source": [
    "from sklearn.tree import DecisionTreeClassifier\n",
    "from sklearn.utils import resample\n",
    "from sklearn.metrics import accuracy_score\n",
    "import numpy as np\n",
    "\n",
    "# Sample data\n",
    "X_train = np.array([[1, 2], [2, 3], [3, 4], [4, 5], [5, 6]])\n",
    "y_train = np.array([0, 1, 0, 1, 0])\n",
    "\n",
    "X_test = np.array([[6, 7], [7, 8], [8, 9]])\n",
    "y_test = np.array([0, 1, 0])\n",
    "\n",
    "# Number of base models (decision trees)\n",
    "num_models = 3\n",
    "\n",
    "# List to store base models\n",
    "base_models = []\n",
    "\n",
    "# Train multiple decision trees on different bootstrap samples of the training data\n",
    "for _ in range(num_models):\n",
    "    # Sample with replacement from the training dataset\n",
    "    X_sample, y_sample = resample(X_train, y_train, replace=True)\n",
    "    \n",
    "    # Train a decision tree on the bootstrap sample\n",
    "    model = DecisionTreeClassifier()\n",
    "    model.fit(X_sample, y_sample)\n",
    "    \n",
    "    # Add the trained model to the list of base models\n",
    "    base_models.append(model)\n",
    "\n",
    "# Make predictions using each base model on the test data\n",
    "predictions = [model.predict(X_test) for model in base_models]\n",
    "\n",
    "# Aggregate the predictions using majority voting\n",
    "final_prediction = np.round(np.mean(predictions, axis=0)).astype(int)  # Round to nearest integer for binary classification\n",
    "\n",
    "# Calculate accuracy\n",
    "accuracy = accuracy_score(y_test, final_prediction)\n",
    "\n",
    "print(\"Final aggregated prediction:\", final_prediction)\n",
    "print(\"Accuracy:\", accuracy)\n"
   ]
  },
  {
   "cell_type": "code",
   "execution_count": 16,
   "id": "4b37710b-0c63-4cf8-b79b-b5819e8ee176",
   "metadata": {},
   "outputs": [
    {
     "name": "stdout",
     "output_type": "stream",
     "text": [
      "Final aggregated predictions: [0. 1. 0. 1. 0.]\n",
      "Accuracy: 1.0\n"
     ]
    }
   ],
   "source": [
    "from sklearn.tree import DecisionTreeClassifier\n",
    "import numpy as np\n",
    "\n",
    "# Sample data\n",
    "X_train = np.array([[1, 2], [2, 3], [3, 4], [4, 5], [5, 6]])\n",
    "y_train = np.array([0, 1, 0, 1, 0])\n",
    "\n",
    "# Test data (identical to training data)\n",
    "X_test = X_train\n",
    "y_test = y_train\n",
    "\n",
    "# Number of base models (decision trees)\n",
    "num_models = 5\n",
    "\n",
    "# List to store base models\n",
    "base_models = []\n",
    "\n",
    "# Train multiple decision trees\n",
    "for _ in range(num_models):\n",
    "    # Train a decision tree\n",
    "    model = DecisionTreeClassifier()\n",
    "    model.fit(X_train, y_train)\n",
    "    \n",
    "    # Add the trained model to the list of base models\n",
    "    base_models.append(model)\n",
    "\n",
    "# Make predictions using each base model on the test data\n",
    "predictions = [model.predict(X_test) for model in base_models]\n",
    "\n",
    "# Aggregate the predictions using majority voting\n",
    "final_predictions = np.mean(predictions, axis=0)\n",
    "\n",
    "# Calculate accuracy\n",
    "accuracy = np.mean(final_predictions == y_test)\n",
    "\n",
    "print(\"Final aggregated predictions:\", final_predictions)\n",
    "print(\"Accuracy:\", accuracy)\n"
   ]
  },
  {
   "cell_type": "code",
   "execution_count": 17,
   "id": "2fb5de1b-36fe-4ecc-9a2d-2395ec261441",
   "metadata": {},
   "outputs": [
    {
     "name": "stdout",
     "output_type": "stream",
     "text": [
      "Final aggregated predictions: [0. 0. 0. 0. 0.]\n",
      "Accuracy: 0.6\n"
     ]
    }
   ],
   "source": [
    "from sklearn.tree import DecisionTreeClassifier\n",
    "import numpy as np\n",
    "\n",
    "# Sample data\n",
    "X_train = np.array([[1, 2], [2, 3], [3, 4], [4, 5], [5, 6]])\n",
    "y_train = np.array([0, 1, 0, 1, 0])\n",
    "\n",
    "# Create a different test dataset\n",
    "X_test = np.array([[6, 7], [7, 8], [8, 9], [9, 10], [10, 11]])\n",
    "y_test = np.array([0, 1, 0, 1, 0])  # Predictable labels based on the pattern learned from training data\n",
    "\n",
    "# Number of base models (decision trees)\n",
    "num_models = 5\n",
    "\n",
    "# List to store base models\n",
    "base_models = []\n",
    "\n",
    "# Train multiple decision trees\n",
    "for _ in range(num_models):\n",
    "    # Train a decision tree\n",
    "    model = DecisionTreeClassifier()\n",
    "    model.fit(X_train, y_train)\n",
    "    \n",
    "    # Add the trained model to the list of base models\n",
    "    base_models.append(model)\n",
    "\n",
    "# Make predictions using each base model on the test data\n",
    "predictions = [model.predict(X_test) for model in base_models]\n",
    "\n",
    "# Aggregate the predictions using majority voting\n",
    "final_predictions = np.mean(predictions, axis=0)\n",
    "\n",
    "# Calculate accuracy\n",
    "accuracy = np.mean(final_predictions == y_test)\n",
    "\n",
    "print(\"Final aggregated predictions:\", final_predictions)\n",
    "print(\"Accuracy:\", accuracy)\n"
   ]
  },
  {
   "cell_type": "code",
   "execution_count": null,
   "id": "263825c4-e36e-4b3a-86a4-1d0bacadf97a",
   "metadata": {},
   "outputs": [],
   "source": []
  }
 ],
 "metadata": {
  "kernelspec": {
   "display_name": "Python 3 (ipykernel)",
   "language": "python",
   "name": "python3"
  },
  "language_info": {
   "codemirror_mode": {
    "name": "ipython",
    "version": 3
   },
   "file_extension": ".py",
   "mimetype": "text/x-python",
   "name": "python",
   "nbconvert_exporter": "python",
   "pygments_lexer": "ipython3",
   "version": "3.11.7"
  }
 },
 "nbformat": 4,
 "nbformat_minor": 5
}
