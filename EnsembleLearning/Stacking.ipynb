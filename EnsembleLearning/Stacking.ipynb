{
 "cells": [
  {
   "cell_type": "code",
   "execution_count": 1,
   "id": "0dff4e1b-a972-4f45-a01d-96a15f8e95b6",
   "metadata": {},
   "outputs": [
    {
     "name": "stdout",
     "output_type": "stream",
     "text": [
      "Accuracy: 0.7\n"
     ]
    }
   ],
   "source": [
    "from sklearn.ensemble import RandomForestClassifier, GradientBoostingClassifier\n",
    "from sklearn.linear_model import LogisticRegression\n",
    "from sklearn.model_selection import train_test_split\n",
    "from sklearn.metrics import accuracy_score\n",
    "import numpy as np\n",
    "\n",
    "# Generate some sample data\n",
    "X = np.random.randn(100, 5)  # 100 samples, 5 features\n",
    "y = np.random.randint(0, 2, 100)  # Binary classification labels\n",
    "\n",
    "# Split the data into train and test sets\n",
    "X_train, X_test, y_train, y_test = train_test_split(X, y, test_size=0.2, random_state=42)\n",
    "\n",
    "# Base models\n",
    "model1 = RandomForestClassifier(random_state=42)\n",
    "model2 = GradientBoostingClassifier(random_state=42)\n",
    "\n",
    "# Fit base models on the training data\n",
    "model1.fit(X_train, y_train)\n",
    "model2.fit(X_train, y_train)\n",
    "\n",
    "# Generate predictions from base models\n",
    "preds_model1 = model1.predict(X_test)\n",
    "preds_model2 = model2.predict(X_test)\n",
    "\n",
    "# Stack the predictions from base models along the column axis\n",
    "stacked_predictions = np.column_stack((preds_model1, preds_model2))\n",
    "\n",
    "# Meta learner (logistic regression)\n",
    "meta_model = LogisticRegression(random_state=42)\n",
    "meta_model.fit(stacked_predictions, y_test)\n",
    "\n",
    "# Make predictions on the test set using the stacked predictions\n",
    "stacked_preds_test = np.column_stack((model1.predict(X_test), model2.predict(X_test)))\n",
    "final_preds = meta_model.predict(stacked_preds_test)\n",
    "\n",
    "# Calculate accuracy\n",
    "accuracy = accuracy_score(y_test, final_preds)\n",
    "print(\"Accuracy:\", accuracy)\n"
   ]
  },
  {
   "cell_type": "code",
   "execution_count": null,
   "id": "aafd8c11-8672-4af7-a494-b9e9da4f1469",
   "metadata": {},
   "outputs": [],
   "source": []
  }
 ],
 "metadata": {
  "kernelspec": {
   "display_name": "Python 3 (ipykernel)",
   "language": "python",
   "name": "python3"
  },
  "language_info": {
   "codemirror_mode": {
    "name": "ipython",
    "version": 3
   },
   "file_extension": ".py",
   "mimetype": "text/x-python",
   "name": "python",
   "nbconvert_exporter": "python",
   "pygments_lexer": "ipython3",
   "version": "3.11.7"
  }
 },
 "nbformat": 4,
 "nbformat_minor": 5
}
