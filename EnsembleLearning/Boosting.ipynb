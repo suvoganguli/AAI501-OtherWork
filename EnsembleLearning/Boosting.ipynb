{
 "cells": [
  {
   "cell_type": "code",
   "execution_count": 3,
   "id": "0c3d021f-4d4a-46e6-a865-9c6bcab512c1",
   "metadata": {},
   "outputs": [
    {
     "name": "stdout",
     "output_type": "stream",
     "text": [
      "Accuracy: 0.535\n"
     ]
    }
   ],
   "source": [
    "from sklearn.tree import DecisionTreeClassifier\n",
    "from sklearn.datasets import make_classification\n",
    "from sklearn.model_selection import train_test_split\n",
    "from sklearn.metrics import accuracy_score\n",
    "import numpy as np\n",
    "\n",
    "# Generate synthetic data for classification\n",
    "X, y = make_classification(n_samples=1000, n_features=20, n_classes=2, random_state=42)\n",
    "\n",
    "# Split the data into train and test sets\n",
    "X_train, X_test, y_train, y_test = train_test_split(X, y, test_size=0.2, random_state=42)\n",
    "\n",
    "# Initialize weights for each sample\n",
    "weights = np.ones(len(y_train)) / len(y_train)\n",
    "\n",
    "# Create base model (Decision Tree)\n",
    "base_model = DecisionTreeClassifier(max_depth=1, random_state=42)\n",
    "\n",
    "# Initialize ensemble model predictions\n",
    "ensemble_predictions = np.zeros(len(y_test))\n",
    "\n",
    "# Number of weak learners\n",
    "num_learners = 50\n",
    "\n",
    "# AdaBoost training\n",
    "for t in range(num_learners):\n",
    "    # Train base model with weighted samples\n",
    "    base_model.fit(X_train, y_train, sample_weight=weights)\n",
    "    \n",
    "    # Make predictions on the training set\n",
    "    y_pred_train = base_model.predict(X_train)\n",
    "    \n",
    "    # Calculate error\n",
    "    error = sum(weights * (y_train != y_pred_train)) / sum(weights)\n",
    "    \n",
    "    # Compute model weight\n",
    "    alpha = 0.5 * np.log((1 - error) / error)\n",
    "    \n",
    "    # Update weights\n",
    "    weights *= np.exp(alpha * (y_train != y_pred_train))\n",
    "    weights /= sum(weights)  # Normalize weights\n",
    "    \n",
    "    # Make predictions on the test set\n",
    "    y_pred_test = base_model.predict(X_test)\n",
    "    \n",
    "    # Add weighted predictions to ensemble predictions\n",
    "    ensemble_predictions += alpha * y_pred_test\n",
    "\n",
    "# Calculate final predictions by sign of ensemble predictions\n",
    "final_predictions = np.sign(ensemble_predictions)\n",
    "\n",
    "# Calculate accuracy\n",
    "accuracy = accuracy_score(y_test, final_predictions)\n",
    "print(\"Accuracy:\", accuracy)\n"
   ]
  },
  {
   "cell_type": "code",
   "execution_count": 4,
   "id": "8cbbac6e-6ede-42aa-ab7e-5a0109c3efd4",
   "metadata": {},
   "outputs": [
    {
     "name": "stdout",
     "output_type": "stream",
     "text": [
      "Accuracy: 0.87\n"
     ]
    }
   ],
   "source": [
    "from sklearn.ensemble import AdaBoostClassifier\n",
    "from sklearn.datasets import make_classification\n",
    "from sklearn.model_selection import train_test_split\n",
    "from sklearn.metrics import accuracy_score\n",
    "\n",
    "# Generate synthetic data for classification\n",
    "X, y = make_classification(n_samples=1000, n_features=20, n_classes=2, random_state=42)\n",
    "\n",
    "# Split the data into train and test sets\n",
    "X_train, X_test, y_train, y_test = train_test_split(X, y, test_size=0.2, random_state=42)\n",
    "\n",
    "# Create AdaBoost classifier with decision tree as base estimator\n",
    "clf = AdaBoostClassifier(n_estimators=50, random_state=42)\n",
    "\n",
    "# Train the classifier\n",
    "clf.fit(X_train, y_train)\n",
    "\n",
    "# Make predictions\n",
    "y_pred = clf.predict(X_test)\n",
    "\n",
    "# Calculate accuracy\n",
    "accuracy = accuracy_score(y_test, y_pred)\n",
    "print(\"Accuracy:\", accuracy)\n"
   ]
  },
  {
   "cell_type": "code",
   "execution_count": null,
   "id": "813e4812-8eaa-4b9b-8671-3136536d2eb9",
   "metadata": {},
   "outputs": [],
   "source": []
  }
 ],
 "metadata": {
  "kernelspec": {
   "display_name": "Python 3 (ipykernel)",
   "language": "python",
   "name": "python3"
  },
  "language_info": {
   "codemirror_mode": {
    "name": "ipython",
    "version": 3
   },
   "file_extension": ".py",
   "mimetype": "text/x-python",
   "name": "python",
   "nbconvert_exporter": "python",
   "pygments_lexer": "ipython3",
   "version": "3.11.7"
  }
 },
 "nbformat": 4,
 "nbformat_minor": 5
}
